{
 "cells": [
  {
   "cell_type": "markdown",
   "metadata": {},
   "source": [
    "Sentiment Analysis of Twitter data using Naive Bayes Classifier"
   ]
  },
  {
   "cell_type": "markdown",
   "metadata": {},
   "source": [
    "----------START----------"
   ]
  },
  {
   "cell_type": "code",
   "execution_count": 51,
   "metadata": {},
   "outputs": [
    {
     "name": "stderr",
     "output_type": "stream",
     "text": [
      "[nltk_data] Downloading package stopwords to\n",
      "[nltk_data]     C:\\Users\\palak\\AppData\\Roaming\\nltk_data...\n",
      "[nltk_data]   Package stopwords is already up-to-date!\n",
      "[nltk_data] Downloading package punkt to\n",
      "[nltk_data]     C:\\Users\\palak\\AppData\\Roaming\\nltk_data...\n",
      "[nltk_data]   Package punkt is already up-to-date!\n"
     ]
    }
   ],
   "source": [
    "import tweepy\n",
    "import csv\n",
    "import twitter\n",
    "import time\n",
    "import re\n",
    "import nltk\n",
    "import chardet\n",
    "import pandas as pd\n",
    "from nltk.tokenize import word_tokenize\n",
    "from string import punctuation\n",
    "from nltk.corpus import stopwords\n",
    "nltk.download('stopwords')\n",
    "nltk.download('punkt')\n",
    "import matplotlib\n",
    "import matplotlib.pyplot as plt"
   ]
  },
  {
   "cell_type": "markdown",
   "metadata": {},
   "source": [
    "Twitter Aunthentication with Python - Handshkaking.\n",
    "Creation of Twitter application on the twitter developers account and then performing the aunthentication"
   ]
  },
  {
   "cell_type": "code",
   "execution_count": 33,
   "metadata": {},
   "outputs": [],
   "source": [
    "def auntentication():\n",
    "    \"\"\"Keys to aunthenticate the twitter application with our python code\"\"\"\n",
    "    CONSUMER_KEY = 'tQH7sGi4VUTgTQ8Vq1CEsf5c1'\n",
    "    CONSUMER_SECRET = 'iWptKtX9eb7RKdAT8NsfljxWkRvbzhzb25CbNcKe4UhEU1wltu'\n",
    "    ACCESS_TOKEN = '844857311013158912-OcS1nrun1i4kXEhbrD7FxHfmQEhi3PY'\n",
    "    ACCESS_TOKEN_SECRET = 'gADobY1ONjzVSlGZfd9OBzpgjXFaxpcsiWRhGwMgbkxdZ'\n",
    "\n",
    "\n",
    "    \"\"\"Function to authenticate the application using Handshake method\"\"\"\n",
    "    auth = tweepy.OAuthHandler(CONSUMER_KEY, CONSUMER_SECRET)\n",
    "    auth.set_access_token(ACCESS_TOKEN, ACCESS_TOKEN_SECRET)\n",
    "    api = tweepy.API(auth)\n",
    "    return api"
   ]
  },
  {
   "cell_type": "markdown",
   "metadata": {},
   "source": [
    "Building the Testing Dataset\n",
    "The user inputs the hastag, extraction of tweets takes place via twitter API.\n",
    "We can restrict the tweets with various paarmeters like time period, language and id.\n",
    "We have restricted with only English language."
   ]
  },
  {
   "cell_type": "code",
   "execution_count": 34,
   "metadata": {},
   "outputs": [],
   "source": [
    "def createTestSet(search_keyword, api):\n",
    "\n",
    "        tweets_fetched = tweepy.Cursor(api.search, q=search_keyword, lang =\"en\").items(100)\n",
    "\n",
    "        return [{\"text\": status.text, \"label\": None} for status in tweets_fetched]"
   ]
  },
  {
   "cell_type": "markdown",
   "metadata": {},
   "source": [
    "Storing the Test dataset in a csv file"
   ]
  },
  {
   "cell_type": "code",
   "execution_count": 35,
   "metadata": {},
   "outputs": [],
   "source": [
    "def writeExtractedTweets(test_data_set) :\n",
    "\n",
    "    csvFile = open('TestDataSet.csv', 'w')\n",
    "    csvWriter = csv.writer(csvFile, delimiter=',', quotechar=\"\\\"\")\n",
    "    for row in test_data_set :\n",
    "        try:\n",
    "            csvWriter.writerow([row[\"text\"], row[\"label\"]])\n",
    "        except Exception as e:\n",
    "            # print(e)\n",
    "            continue;"
   ]
  },
  {
   "cell_type": "markdown",
   "metadata": {},
   "source": [
    "Building of Training dataset with necessary labels"
   ]
  },
  {
   "cell_type": "code",
   "execution_count": 36,
   "metadata": {},
   "outputs": [],
   "source": [
    "def createTrainingSet(corpusFile, tweetDataFile):\n",
    "\n",
    "    counter = 0;\n",
    "    corpus = []\n",
    "\n",
    "    with open(corpusFile, 'r') as csvfile:\n",
    "        lineReader = csv.reader(csvfile, delimiter=',', quotechar=\"\\\"\")\n",
    "        for row in lineReader:\n",
    "            corpus.append({\"tweet_id\": row[2], \"label\": row[1], \"topic\": row[0]})\n",
    "\n",
    "    rate_limit = 180\n",
    "    sleep_time = 900 / 180\n",
    "    # sleep_time = 2\n",
    "    trainingDataSet = []\n",
    "\n",
    "    for tweet in corpus:\n",
    "        try:\n",
    "            tweetFetched = api.get_status(tweet[\"tweet_id\"])\n",
    "            print(\"Tweet fetched\" + tweetFetched.text)\n",
    "            tweet[\"text\"] = tweetFetched.text\n",
    "            trainingDataSet.append(tweet)\n",
    "            time.sleep(sleep_time)\n",
    "        except:\n",
    "            continue\n",
    "    # Now we write them to the empty CSV file\n",
    "    with open(tweetDataFile, 'w') as csvfile:\n",
    "        linewriter = csv.writer(csvfile, delimiter=',', quotechar=\"\\\"\")\n",
    "        for tweet in trainingDataSet:\n",
    "            try:\n",
    "                linewriter.writerow([tweet[\"tweet_id\"], tweet[\"text\"], tweet[\"label\"], tweet[\"topic\"]])\n",
    "            except Exception as e:\n",
    "                print(e)\n",
    "    return trainingDataSet"
   ]
  },
  {
   "cell_type": "markdown",
   "metadata": {},
   "source": [
    "Editing the training data with necessary labels"
   ]
  },
  {
   "cell_type": "code",
   "execution_count": 37,
   "metadata": {},
   "outputs": [],
   "source": [
    "def read_data_set(tweet_data_file):\n",
    "    new_data = []\n",
    "\n",
    "    with open(tweet_data_file, 'r') as csvfile:\n",
    "        try:\n",
    "            lineReader = csv.reader(csvfile, delimiter=',', quotechar=\"\\\"\")\n",
    "        except Exception as e:\n",
    "                print(e)\n",
    "\n",
    "        for row in lineReader:\n",
    "            new_data.append({\"tweet_id\": row[0],\"text\": row[1], \"label\": row[2], \"topic\": row[3]})\n",
    "\n",
    "    return new_data"
   ]
  },
  {
   "cell_type": "markdown",
   "metadata": {},
   "source": [
    "Preprocessing of Training and Testing Dataset"
   ]
  },
  {
   "cell_type": "code",
   "execution_count": 38,
   "metadata": {},
   "outputs": [],
   "source": [
    "class PreProcessTweets:\n",
    "    def __init__(self):\n",
    "        self._stopwords = set(stopwords.words('english') + list(punctuation) + ['AT_USER', 'URL'])\n",
    "\n",
    "    def processTweets(self, list_of_tweets):\n",
    "        processedTweets = []\n",
    "        for tweet in list_of_tweets:\n",
    "            processedTweets.append((self._processTweet(tweet[\"text\"]), tweet[\"label\"]))\n",
    "        return processedTweets\n",
    "\n",
    "    def _processTweet(self, tweet):\n",
    "        tweet = tweet.lower()  # convert text to lower-case\n",
    "        tweet = re.sub('((www\\.[^\\s]+)|(https?://[^\\s]+))', 'URL', tweet)  # remove URLs\n",
    "        tweet = re.sub('@[^\\s]+', 'AT_USER', tweet)  # remove usernames\n",
    "        tweet = re.sub(r'#([^\\s]+)', r'\\1', tweet)  # remove the # in #hashtag\n",
    "        tweet = word_tokenize(tweet)  # remove repeated characters (helloooooooo into hello)\n",
    "        return [word for word in tweet if word not in self._stopwords]"
   ]
  },
  {
   "cell_type": "markdown",
   "metadata": {},
   "source": [
    "Building the Vocabulary and extracting the features from the Training dataset"
   ]
  },
  {
   "cell_type": "code",
   "execution_count": 39,
   "metadata": {},
   "outputs": [],
   "source": [
    "def buildVocabulary(preprocessedTrainingData):\n",
    "    all_words = []\n",
    "\n",
    "    for (words, sentiment) in preprocessedTrainingData:\n",
    "        all_words.extend(words)\n",
    "\n",
    "    wordlist = nltk.FreqDist(all_words)\n",
    "    word_features = wordlist.keys()\n",
    "\n",
    "    return word_features"
   ]
  },
  {
   "cell_type": "code",
   "execution_count": 40,
   "metadata": {},
   "outputs": [],
   "source": [
    "def extract_features(tweet):\n",
    "    tweet_words = set(tweet)\n",
    "    features = {}\n",
    "    for word in word_features:\n",
    "        features['contains(%s)' % word] = (word in tweet_words)\n",
    "    return features"
   ]
  },
  {
   "cell_type": "markdown",
   "metadata": {},
   "source": [
    "Final output of the Project"
   ]
  },
  {
   "cell_type": "code",
   "execution_count": 41,
   "metadata": {},
   "outputs": [],
   "source": [
    "def results() :\n",
    "    # get the majority vote\n",
    "    if NBResultLabels.count('positive') > NBResultLabels.count('negative'):\n",
    "        print(\"Overall Positive Sentiment\")\n",
    "        print(\"Positive Sentiment Percentage = \" + str(100 * NBResultLabels.count('positive') / len(NBResultLabels)) + \"%\")\n",
    "    else:\n",
    "        print(\"Overall Negative Sentiment\")\n",
    "        print(\"Negative Sentiment Percentage = \" + str(100 * NBResultLabels.count('negative') / len(NBResultLabels)) + \"%\")\n",
    "\n",
    "    NBResultLabels.count('positive')\n",
    "    NBResultLabels.count('negative')\n",
    "    NBResultLabels.count('irrelevant')\n",
    "    NBResultLabels.count('neutral')\n",
    "#     print(\"NBResultLabels.count()\", NBResultLabels.count)\n",
    "#     print(\"NBResultLabels.count('Positive') : \", NBResultLabels.count('positive'))\n",
    "#     print(\"NBResultLabels.count('Negative') : \", NBResultLabels.count('negative'))\n",
    "#     print(\"NBResultLabels.count('Irrelevant') : \", NBResultLabels.count('irrelevant'))\n",
    "#     print(\"NBResultLabels.count('Neutral') : \", NBResultLabels.count('neutral'))\n",
    "    print(\"Search Term : \", search_term)\n",
    "\n",
    "    poitive_sentiment = str(100 * NBResultLabels.count('positive') / len(NBResultLabels))\n",
    "    negative_sentiment = str(100 * NBResultLabels.count('negative') / len(NBResultLabels))\n",
    "    neutral_sentiment = str(100 * NBResultLabels.count('neutral') / len(NBResultLabels))\n",
    "    irrelevant_sentiment = str(100 * NBResultLabels.count('irrelevant') / len(NBResultLabels))\n",
    "\n",
    "    print(\"Positive Sentiment Percentage = \" + poitive_sentiment + \"%\")\n",
    "    print(\"Negative Sentiment Percentage = \" + negative_sentiment + \"%\")\n",
    "    print(\"Neutal Sentiment Percentage = \" + neutral_sentiment + \"%\")\n",
    "    print(\"Irrelevant Sentiment Percentage = \" + irrelevant_sentiment + \"%\")\n",
    "\n",
    "    labels = 'Positive', 'Negative', 'Neutral', 'Irrelevant'\n",
    "    sizes = [poitive_sentiment, negative_sentiment, neutral_sentiment, irrelevant_sentiment]\n",
    "    colors = ['gold', 'yellowgreen', 'lightcoral', 'lightskyblue']\n",
    "    explode = (0.1, 0, 0, 0)  # explode 1st slice\n",
    "\n",
    "    # Plot the Pie chart\n",
    "    plt.pie(sizes, explode=explode, labels=labels, colors=colors, autopct='%1.1f%%', shadow=True, startangle=140)\n",
    "    plt.axis('equal')\n",
    "    plt.show()"
   ]
  },
  {
   "cell_type": "markdown",
   "metadata": {},
   "source": [
    "--------------------------------------START EXECUTION-----------------------------------------------"
   ]
  },
  {
   "cell_type": "code",
   "execution_count": 42,
   "metadata": {},
   "outputs": [],
   "source": [
    "auth_api = auntentication()\n",
    "corpusFile = \"C:/Users/palak/PycharmProjects/Pattern_final/corpus.csv\"\n",
    "tweetDataFile = \"C:/Users/palak/PycharmProjects/Pattern_final/tweetDataFile.csv\""
   ]
  },
  {
   "cell_type": "markdown",
   "metadata": {},
   "source": [
    "Creating the Testing Dataset"
   ]
  },
  {
   "cell_type": "code",
   "execution_count": 43,
   "metadata": {},
   "outputs": [
    {
     "name": "stdout",
     "output_type": "stream",
     "text": [
      "Enter a search keyword: #CoronaVirus\n"
     ]
    }
   ],
   "source": [
    "search_term = input(\"Enter a search keyword: \")\n",
    "testDataSet = createTestSet(search_term, auth_api)\n",
    "writeExtractedTweets(testDataSet)\n",
    "# print(testDataSet[0:4])"
   ]
  },
  {
   "cell_type": "markdown",
   "metadata": {},
   "source": [
    "Creating the final testing dataset along with necessary labels"
   ]
  },
  {
   "cell_type": "code",
   "execution_count": 44,
   "metadata": {},
   "outputs": [],
   "source": [
    "final_dataset = read_data_set(tweetDataFile)"
   ]
  },
  {
   "cell_type": "markdown",
   "metadata": {},
   "source": [
    "Creating the Testing Dataset - In this we execute the function buildTrainingSet - It takes a long time to execute depending on the sleep time. For us it took us nearly 14 hours to get the training dataset because the sleep time was 5. We can reduce the sleep time for faster results."
   ]
  },
  {
   "cell_type": "code",
   "execution_count": 45,
   "metadata": {},
   "outputs": [],
   "source": [
    "# trainingData = createTrainingSet(corpusFile, tweetDataFile)"
   ]
  },
  {
   "cell_type": "markdown",
   "metadata": {},
   "source": [
    "Presprocessing of our Training and Testing Data set"
   ]
  },
  {
   "cell_type": "code",
   "execution_count": 46,
   "metadata": {},
   "outputs": [],
   "source": [
    "tweetProcessor = PreProcessTweets()\n",
    "preprocessedTestSet = tweetProcessor.processTweets(testDataSet)\n",
    "preprocessedTrainingSet = tweetProcessor.processTweets(final_dataset)"
   ]
  },
  {
   "cell_type": "markdown",
   "metadata": {},
   "source": [
    "Extract the features and train the classifier"
   ]
  },
  {
   "cell_type": "code",
   "execution_count": 47,
   "metadata": {},
   "outputs": [],
   "source": [
    "word_features = buildVocabulary(preprocessedTrainingSet)\n",
    "\n",
    "trainingFeatures = nltk.classify.apply_features(extract_features, preprocessedTrainingSet)"
   ]
  },
  {
   "cell_type": "markdown",
   "metadata": {},
   "source": [
    "Calculate the accuracy"
   ]
  },
  {
   "cell_type": "code",
   "execution_count": 48,
   "metadata": {},
   "outputs": [
    {
     "name": "stdout",
     "output_type": "stream",
     "text": [
      "Accuracy : 83.5\n"
     ]
    }
   ],
   "source": [
    "train_set, test_set = trainingFeatures[2000:], trainingFeatures[:2000]\n",
    "myClassifier = nltk.NaiveBayesClassifier.train(trainingFeatures)\n",
    "print(\"Accuracy : \"+ str(nltk.classify.accuracy(myClassifier, test_set)*100))"
   ]
  },
  {
   "cell_type": "markdown",
   "metadata": {},
   "source": [
    "Classifying the features from our preprocessed test dataset"
   ]
  },
  {
   "cell_type": "code",
   "execution_count": 49,
   "metadata": {},
   "outputs": [],
   "source": [
    "NBResultLabels = [myClassifier.classify(extract_features(tweet[0])) for tweet in preprocessedTestSet]"
   ]
  },
  {
   "cell_type": "markdown",
   "metadata": {},
   "source": [
    "Here we get the final results of positive and negative percentage and the pie chart plotting"
   ]
  },
  {
   "cell_type": "code",
   "execution_count": 50,
   "metadata": {},
   "outputs": [
    {
     "name": "stdout",
     "output_type": "stream",
     "text": [
      "Overall Negative Sentiment\n",
      "Negative Sentiment Percentage = 16.0%\n",
      "Search Term :  #CoronaVirus\n",
      "Positive Sentiment Percentage = 11.0%\n",
      "Negative Sentiment Percentage = 16.0%\n",
      "Neutal Sentiment Percentage = 70.0%\n",
      "Irrelevant Sentiment Percentage = 0.0%\n"
     ]
    },
    {
     "data": {
      "image/png": "[encoded data removed]",
      "text/plain": [
       "<Figure size 432x288 with 1 Axes>"
      ]
     },
     "metadata": {},
     "output_type": "display_data"
    }
   ],
   "source": [
    "results()"
   ]
  },
  {
   "cell_type": "markdown",
   "metadata": {},
   "source": [
    "--------------------------------------END EXECUTION-----------------------------------------------"
   ]
  }
 ],
 "metadata": {
  "kernelspec": {
   "display_name": "Python 3",
   "language": "python",
   "name": "python3"
  },
  "language_info": {
   "codemirror_mode": {
    "name": "ipython",
    "version": 3
   },
   "file_extension": ".py",
   "mimetype": "text/x-python",
   "name": "python",
   "nbconvert_exporter": "python",
   "pygments_lexer": "ipython3",
   "version": "3.7.4"
  }
 },
 "nbformat": 4,
 "nbformat_minor": 2
}
